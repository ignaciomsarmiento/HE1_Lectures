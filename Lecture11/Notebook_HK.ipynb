{
 "cells": [
  {
   "cell_type": "markdown",
   "id": "e53dc4f6",
   "metadata": {},
   "source": [
    "# Haciendo Economía: Retornos a la educación"
   ]
  },
  {
   "cell_type": "raw",
   "id": "a089215e",
   "metadata": {},
   "source": [
    "<a target=\"_blank\" href=\"https://colab.research.google.com/github/ignaciomsarmiento/HE1_Lectures/blob/main/Lecture11/Notebook_HK.ipynb\">\n",
    "  <img src=\"https://colab.research.google.com/assets/colab-badge.svg\" alt=\"Open In Colab\"/>\n",
    "</a>\n"
   ]
  },
  {
   "cell_type": "markdown",
   "id": "32d87f3f",
   "metadata": {},
   "source": [
    "## Modelo \n",
    "\n",
    "$$\n",
    "y= f(X) + u\n",
    "$$\n",
    "\n",
    "$$\n",
    "log(w)= \\beta_0 + Educ \\beta_1 + u\n",
    "$$\n"
   ]
  },
  {
   "cell_type": "markdown",
   "id": "5e09610c",
   "metadata": {},
   "source": [
    "## Datos\n",
    "\n",
    "La NLSY97 (National Longitudinal Survey of Youth, 1997) es un proyecto longitudinal que sigue las vidas de una muestra de jóvenes estadounidenses nacidos entre 1980 y 1984. Se entrevistó por primera vez a 8,984 encuestados cuando tenían entre 12 y 17 años en 1997. Esta cohorte en curso ha sido encuestada 19 veces hasta la fecha y ahora se entrevista bienalmente. Los datos están disponibles desde la Ronda 1 (1997-98) hasta la Ronda 19 (2019-2020), junto con un suplemento COVID-19 realizado en 2021.\n",
    "La sección de \"Educación, Capacitación y Puntajes de Logro\" del NLSY97 proporciona información sobre las actividades educativas, actitudes y estado educativo de los encuestados. A continuación, te proporciono un resumen de las áreas relevantes que podrían contener información sobre las variables que mencionaste:\n",
    "\n",
    "   \n",
    "Entre otras cosas Se recopilan datos sobre las actividades, actitudes y estado educativo de los encuestados del NLSY97 a través de preguntas sobre escolaridad. Estas preguntas se adaptan al nivel de grado del encuestado y abordan experiencias educativas antes de la secundaria, en la secundaria y en la universidad.\n",
    "       \n",
    "En la primera ronda, la mayoría de los encuestados del NLSY97 participaron en la administración de una prueba nacional, la versión informatizada del Armed Services Vocational Aptitude Battery (ASVAB).\n",
    "\n",
    "\n",
    "Además, algunos encuestados del NLSY97 realizaron el Peabody Individual Achievement Test (PIAT) Math Assessment como parte de la entrevista. También se recopiló información sobre otros tests estandarizados (como ACT y SAT) que los encuestados podrían haber tomado en la secundaria."
   ]
  },
  {
   "cell_type": "code",
   "execution_count": null,
   "id": "a4b00b42",
   "metadata": {
    "vscode": {
     "languageId": "r"
    }
   },
   "outputs": [],
   "source": [
    "# install.packages(\"pacman\") #Correr esta linea en Google Colab"
   ]
  },
  {
   "cell_type": "code",
   "execution_count": 2,
   "id": "d86d5977",
   "metadata": {
    "vscode": {
     "languageId": "r"
    }
   },
   "outputs": [
    {
     "name": "stderr",
     "output_type": "stream",
     "text": [
      "Loading required package: pacman\n",
      "\n"
     ]
    }
   ],
   "source": [
    "# Cargamos los paquetes\n",
    "\n",
    "require(\"pacman\")\n",
    "\n",
    "p_load(\"tidyverse\",\"stargazer\")\n"
   ]
  },
  {
   "cell_type": "code",
   "execution_count": 3,
   "id": "0f4546c8",
   "metadata": {
    "vscode": {
     "languageId": "r"
    }
   },
   "outputs": [
    {
     "name": "stderr",
     "output_type": "stream",
     "text": [
      "\u001b[1mRows: \u001b[22m\u001b[34m1266\u001b[39m \u001b[1mColumns: \u001b[22m\u001b[34m994\u001b[39m\n",
      "\u001b[36m──\u001b[39m \u001b[1mColumn specification\u001b[22m \u001b[36m──────────────────────────────────────────────────────────────────────────────────────────────────────────────────────────────────────────────────────────────────────────────────────────────────────────────────────\u001b[39m\n",
      "\u001b[1mDelimiter:\u001b[22m \",\"\n",
      "\u001b[32mdbl\u001b[39m (994): lnw_2016, educ, black, hispanic, other, exp, afqt, mom_educ, dad_...\n",
      "\n",
      "\u001b[36mℹ\u001b[39m Use `spec()` to retrieve the full column specification for this data.\n",
      "\u001b[36mℹ\u001b[39m Specify the column types or set `show_col_types = FALSE` to quiet this message.\n"
     ]
    }
   ],
   "source": [
    "nlsy = read_csv('https://raw.githubusercontent.com/ignaciomsarmiento/datasets/main/nlsy97.csv')\n"
   ]
  },
  {
   "cell_type": "code",
   "execution_count": 4,
   "id": "676de3bf",
   "metadata": {
    "vscode": {
     "languageId": "r"
    }
   },
   "outputs": [
    {
     "data": {
      "text/html": [
       "<table class=\"dataframe\">\n",
       "<caption>A tibble: 6 × 994</caption>\n",
       "<thead>\n",
       "\t<tr><th scope=col>lnw_2016</th><th scope=col>educ</th><th scope=col>black</th><th scope=col>hispanic</th><th scope=col>other</th><th scope=col>exp</th><th scope=col>afqt</th><th scope=col>mom_educ</th><th scope=col>dad_educ</th><th scope=col>yhea_100_1997</th><th scope=col>⋯</th><th scope=col>_XPexp_13</th><th scope=col>_XPexp_14</th><th scope=col>_XPexp_16</th><th scope=col>_XPexp_17</th><th scope=col>_XPexp_18</th><th scope=col>_XPexp_19</th><th scope=col>_XPexp_20</th><th scope=col>_XPexp_21</th><th scope=col>_XPexp_22</th><th scope=col>_XPexp_23</th></tr>\n",
       "\t<tr><th scope=col>&lt;dbl&gt;</th><th scope=col>&lt;dbl&gt;</th><th scope=col>&lt;dbl&gt;</th><th scope=col>&lt;dbl&gt;</th><th scope=col>&lt;dbl&gt;</th><th scope=col>&lt;dbl&gt;</th><th scope=col>&lt;dbl&gt;</th><th scope=col>&lt;dbl&gt;</th><th scope=col>&lt;dbl&gt;</th><th scope=col>&lt;dbl&gt;</th><th scope=col>⋯</th><th scope=col>&lt;dbl&gt;</th><th scope=col>&lt;dbl&gt;</th><th scope=col>&lt;dbl&gt;</th><th scope=col>&lt;dbl&gt;</th><th scope=col>&lt;dbl&gt;</th><th scope=col>&lt;dbl&gt;</th><th scope=col>&lt;dbl&gt;</th><th scope=col>&lt;dbl&gt;</th><th scope=col>&lt;dbl&gt;</th><th scope=col>&lt;dbl&gt;</th></tr>\n",
       "</thead>\n",
       "<tbody>\n",
       "\t<tr><td>4.076898</td><td>16</td><td>0</td><td>0</td><td>0</td><td>11</td><td>7.0724</td><td>12</td><td>12</td><td>3</td><td>⋯</td><td>0</td><td>0</td><td>0</td><td>0</td><td>0</td><td>0</td><td>0</td><td>0</td><td>0</td><td>0</td></tr>\n",
       "\t<tr><td>3.294138</td><td> 9</td><td>0</td><td>0</td><td>0</td><td>19</td><td>4.7481</td><td> 9</td><td>10</td><td>2</td><td>⋯</td><td>0</td><td>0</td><td>0</td><td>0</td><td>0</td><td>1</td><td>0</td><td>0</td><td>0</td><td>0</td></tr>\n",
       "\t<tr><td>2.830896</td><td> 9</td><td>0</td><td>1</td><td>0</td><td>22</td><td>1.1987</td><td>12</td><td> 9</td><td>3</td><td>⋯</td><td>0</td><td>0</td><td>0</td><td>0</td><td>0</td><td>0</td><td>0</td><td>0</td><td>1</td><td>0</td></tr>\n",
       "\t<tr><td>4.306459</td><td>16</td><td>0</td><td>0</td><td>0</td><td>13</td><td>8.9321</td><td>16</td><td>18</td><td>2</td><td>⋯</td><td>1</td><td>0</td><td>0</td><td>0</td><td>0</td><td>0</td><td>0</td><td>0</td><td>0</td><td>0</td></tr>\n",
       "\t<tr><td>5.991465</td><td>16</td><td>0</td><td>1</td><td>0</td><td>15</td><td>2.2618</td><td>16</td><td>16</td><td>1</td><td>⋯</td><td>0</td><td>0</td><td>0</td><td>0</td><td>0</td><td>0</td><td>0</td><td>0</td><td>0</td><td>0</td></tr>\n",
       "\t<tr><td>4.711924</td><td>16</td><td>0</td><td>0</td><td>0</td><td>14</td><td>8.9502</td><td>18</td><td>20</td><td>1</td><td>⋯</td><td>0</td><td>1</td><td>0</td><td>0</td><td>0</td><td>0</td><td>0</td><td>0</td><td>0</td><td>0</td></tr>\n",
       "</tbody>\n",
       "</table>\n"
      ],
      "text/latex": [
       "A tibble: 6 × 994\n",
       "\\begin{tabular}{lllllllllllllllllllll}\n",
       " lnw\\_2016 & educ & black & hispanic & other & exp & afqt & mom\\_educ & dad\\_educ & yhea\\_100\\_1997 & ⋯ & \\_XPexp\\_13 & \\_XPexp\\_14 & \\_XPexp\\_16 & \\_XPexp\\_17 & \\_XPexp\\_18 & \\_XPexp\\_19 & \\_XPexp\\_20 & \\_XPexp\\_21 & \\_XPexp\\_22 & \\_XPexp\\_23\\\\\n",
       " <dbl> & <dbl> & <dbl> & <dbl> & <dbl> & <dbl> & <dbl> & <dbl> & <dbl> & <dbl> & ⋯ & <dbl> & <dbl> & <dbl> & <dbl> & <dbl> & <dbl> & <dbl> & <dbl> & <dbl> & <dbl>\\\\\n",
       "\\hline\n",
       "\t 4.076898 & 16 & 0 & 0 & 0 & 11 & 7.0724 & 12 & 12 & 3 & ⋯ & 0 & 0 & 0 & 0 & 0 & 0 & 0 & 0 & 0 & 0\\\\\n",
       "\t 3.294138 &  9 & 0 & 0 & 0 & 19 & 4.7481 &  9 & 10 & 2 & ⋯ & 0 & 0 & 0 & 0 & 0 & 1 & 0 & 0 & 0 & 0\\\\\n",
       "\t 2.830896 &  9 & 0 & 1 & 0 & 22 & 1.1987 & 12 &  9 & 3 & ⋯ & 0 & 0 & 0 & 0 & 0 & 0 & 0 & 0 & 1 & 0\\\\\n",
       "\t 4.306459 & 16 & 0 & 0 & 0 & 13 & 8.9321 & 16 & 18 & 2 & ⋯ & 1 & 0 & 0 & 0 & 0 & 0 & 0 & 0 & 0 & 0\\\\\n",
       "\t 5.991465 & 16 & 0 & 1 & 0 & 15 & 2.2618 & 16 & 16 & 1 & ⋯ & 0 & 0 & 0 & 0 & 0 & 0 & 0 & 0 & 0 & 0\\\\\n",
       "\t 4.711924 & 16 & 0 & 0 & 0 & 14 & 8.9502 & 18 & 20 & 1 & ⋯ & 0 & 1 & 0 & 0 & 0 & 0 & 0 & 0 & 0 & 0\\\\\n",
       "\\end{tabular}\n"
      ],
      "text/markdown": [
       "\n",
       "A tibble: 6 × 994\n",
       "\n",
       "| lnw_2016 &lt;dbl&gt; | educ &lt;dbl&gt; | black &lt;dbl&gt; | hispanic &lt;dbl&gt; | other &lt;dbl&gt; | exp &lt;dbl&gt; | afqt &lt;dbl&gt; | mom_educ &lt;dbl&gt; | dad_educ &lt;dbl&gt; | yhea_100_1997 &lt;dbl&gt; | ⋯ ⋯ | _XPexp_13 &lt;dbl&gt; | _XPexp_14 &lt;dbl&gt; | _XPexp_16 &lt;dbl&gt; | _XPexp_17 &lt;dbl&gt; | _XPexp_18 &lt;dbl&gt; | _XPexp_19 &lt;dbl&gt; | _XPexp_20 &lt;dbl&gt; | _XPexp_21 &lt;dbl&gt; | _XPexp_22 &lt;dbl&gt; | _XPexp_23 &lt;dbl&gt; |\n",
       "|---|---|---|---|---|---|---|---|---|---|---|---|---|---|---|---|---|---|---|---|---|\n",
       "| 4.076898 | 16 | 0 | 0 | 0 | 11 | 7.0724 | 12 | 12 | 3 | ⋯ | 0 | 0 | 0 | 0 | 0 | 0 | 0 | 0 | 0 | 0 |\n",
       "| 3.294138 |  9 | 0 | 0 | 0 | 19 | 4.7481 |  9 | 10 | 2 | ⋯ | 0 | 0 | 0 | 0 | 0 | 1 | 0 | 0 | 0 | 0 |\n",
       "| 2.830896 |  9 | 0 | 1 | 0 | 22 | 1.1987 | 12 |  9 | 3 | ⋯ | 0 | 0 | 0 | 0 | 0 | 0 | 0 | 0 | 1 | 0 |\n",
       "| 4.306459 | 16 | 0 | 0 | 0 | 13 | 8.9321 | 16 | 18 | 2 | ⋯ | 1 | 0 | 0 | 0 | 0 | 0 | 0 | 0 | 0 | 0 |\n",
       "| 5.991465 | 16 | 0 | 1 | 0 | 15 | 2.2618 | 16 | 16 | 1 | ⋯ | 0 | 0 | 0 | 0 | 0 | 0 | 0 | 0 | 0 | 0 |\n",
       "| 4.711924 | 16 | 0 | 0 | 0 | 14 | 8.9502 | 18 | 20 | 1 | ⋯ | 0 | 1 | 0 | 0 | 0 | 0 | 0 | 0 | 0 | 0 |\n",
       "\n"
      ],
      "text/plain": [
       "  lnw_2016 educ black hispanic other exp afqt   mom_educ dad_educ yhea_100_1997\n",
       "1 4.076898 16   0     0        0     11  7.0724 12       12       3            \n",
       "2 3.294138  9   0     0        0     19  4.7481  9       10       2            \n",
       "3 2.830896  9   0     1        0     22  1.1987 12        9       3            \n",
       "4 4.306459 16   0     0        0     13  8.9321 16       18       2            \n",
       "5 5.991465 16   0     1        0     15  2.2618 16       16       1            \n",
       "6 4.711924 16   0     0        0     14  8.9502 18       20       1            \n",
       "  ⋯ _XPexp_13 _XPexp_14 _XPexp_16 _XPexp_17 _XPexp_18 _XPexp_19 _XPexp_20\n",
       "1 ⋯ 0         0         0         0         0         0         0        \n",
       "2 ⋯ 0         0         0         0         0         1         0        \n",
       "3 ⋯ 0         0         0         0         0         0         0        \n",
       "4 ⋯ 1         0         0         0         0         0         0        \n",
       "5 ⋯ 0         0         0         0         0         0         0        \n",
       "6 ⋯ 0         1         0         0         0         0         0        \n",
       "  _XPexp_21 _XPexp_22 _XPexp_23\n",
       "1 0         0         0        \n",
       "2 0         0         0        \n",
       "3 0         1         0        \n",
       "4 0         0         0        \n",
       "5 0         0         0        \n",
       "6 0         0         0        "
      ]
     },
     "metadata": {},
     "output_type": "display_data"
    }
   ],
   "source": [
    "head(nlsy)"
   ]
  },
  {
   "cell_type": "markdown",
   "id": "0359d082",
   "metadata": {},
   "source": [
    "### Estadísticas descriptivas y limpieza de datos"
   ]
  },
  {
   "cell_type": "code",
   "execution_count": 16,
   "id": "eb211562",
   "metadata": {},
   "outputs": [
    {
     "data": {
      "text/plain": [
       "    lnw_2016           educ      \n",
       " Min.   :-1.955   Min.   : 8.00  \n",
       " 1st Qu.: 2.642   1st Qu.:12.00  \n",
       " Median : 3.077   Median :14.00  \n",
       " Mean   : 3.110   Mean   :14.31  \n",
       " 3rd Qu.: 3.525   3rd Qu.:16.00  \n",
       " Max.   : 7.393   Max.   :20.00  "
      ]
     },
     "metadata": {},
     "output_type": "display_data"
    }
   ],
   "source": [
    "summary(nlsy  %>% select(lnw_2016, educ))"
   ]
  },
  {
   "cell_type": "code",
   "execution_count": null,
   "id": "b77ca5bc",
   "metadata": {},
   "outputs": [],
   "source": [
    "#Housekeeping\n",
    "nlsy = nlsy  %>%   drop_na(educ) #dropea los valores faltantes (NA)"
   ]
  },
  {
   "cell_type": "code",
   "execution_count": 5,
   "id": "1c589b4f",
   "metadata": {
    "vscode": {
     "languageId": "r"
    }
   },
   "outputs": [],
   "source": [
    "#Polinomios de educación\n",
    "\n",
    "nlsy <- nlsy  %>% mutate(educ2=educ^2)"
   ]
  },
  {
   "cell_type": "markdown",
   "id": "c0f44a67",
   "metadata": {},
   "source": [
    "## Regresión Lineal: log(salario) en polinomios de educación"
   ]
  },
  {
   "cell_type": "code",
   "execution_count": 6,
   "id": "ff9a7d77",
   "metadata": {
    "vscode": {
     "languageId": "r"
    }
   },
   "outputs": [
    {
     "data": {
      "text/html": [
       "<table class=\"dataframe\">\n",
       "<caption>A tibble: 6 × 1003</caption>\n",
       "<thead>\n",
       "\t<tr><th scope=col>lnw_2016</th><th scope=col>educ</th><th scope=col>black</th><th scope=col>hispanic</th><th scope=col>other</th><th scope=col>exp</th><th scope=col>afqt</th><th scope=col>mom_educ</th><th scope=col>dad_educ</th><th scope=col>yhea_100_1997</th><th scope=col>⋯</th><th scope=col>_XPexp_23</th><th scope=col>educ2</th><th scope=col>educ3</th><th scope=col>educ4</th><th scope=col>educ5</th><th scope=col>educ6</th><th scope=col>educ7</th><th scope=col>educ8</th><th scope=col>educ9</th><th scope=col>educ10</th></tr>\n",
       "\t<tr><th scope=col>&lt;dbl&gt;</th><th scope=col>&lt;dbl&gt;</th><th scope=col>&lt;dbl&gt;</th><th scope=col>&lt;dbl&gt;</th><th scope=col>&lt;dbl&gt;</th><th scope=col>&lt;dbl&gt;</th><th scope=col>&lt;dbl&gt;</th><th scope=col>&lt;dbl&gt;</th><th scope=col>&lt;dbl&gt;</th><th scope=col>&lt;dbl&gt;</th><th scope=col>⋯</th><th scope=col>&lt;dbl&gt;</th><th scope=col>&lt;dbl&gt;</th><th scope=col>&lt;dbl&gt;</th><th scope=col>&lt;dbl&gt;</th><th scope=col>&lt;dbl&gt;</th><th scope=col>&lt;dbl&gt;</th><th scope=col>&lt;dbl&gt;</th><th scope=col>&lt;dbl&gt;</th><th scope=col>&lt;dbl&gt;</th><th scope=col>&lt;dbl&gt;</th></tr>\n",
       "</thead>\n",
       "<tbody>\n",
       "\t<tr><td>4.076898</td><td>16</td><td>0</td><td>0</td><td>0</td><td>11</td><td>7.0724</td><td>12</td><td>12</td><td>3</td><td>⋯</td><td>0</td><td>256</td><td>4096</td><td>65536</td><td>1048576</td><td>16777216</td><td>268435456</td><td>4294967296</td><td>68719476736</td><td>1.099512e+12</td></tr>\n",
       "\t<tr><td>3.294138</td><td> 9</td><td>0</td><td>0</td><td>0</td><td>19</td><td>4.7481</td><td> 9</td><td>10</td><td>2</td><td>⋯</td><td>0</td><td> 81</td><td> 729</td><td> 6561</td><td>  59049</td><td>  531441</td><td>  4782969</td><td>  43046721</td><td>  387420489</td><td>3.486784e+09</td></tr>\n",
       "\t<tr><td>2.830896</td><td> 9</td><td>0</td><td>1</td><td>0</td><td>22</td><td>1.1987</td><td>12</td><td> 9</td><td>3</td><td>⋯</td><td>0</td><td> 81</td><td> 729</td><td> 6561</td><td>  59049</td><td>  531441</td><td>  4782969</td><td>  43046721</td><td>  387420489</td><td>3.486784e+09</td></tr>\n",
       "\t<tr><td>4.306459</td><td>16</td><td>0</td><td>0</td><td>0</td><td>13</td><td>8.9321</td><td>16</td><td>18</td><td>2</td><td>⋯</td><td>0</td><td>256</td><td>4096</td><td>65536</td><td>1048576</td><td>16777216</td><td>268435456</td><td>4294967296</td><td>68719476736</td><td>1.099512e+12</td></tr>\n",
       "\t<tr><td>5.991465</td><td>16</td><td>0</td><td>1</td><td>0</td><td>15</td><td>2.2618</td><td>16</td><td>16</td><td>1</td><td>⋯</td><td>0</td><td>256</td><td>4096</td><td>65536</td><td>1048576</td><td>16777216</td><td>268435456</td><td>4294967296</td><td>68719476736</td><td>1.099512e+12</td></tr>\n",
       "\t<tr><td>4.711924</td><td>16</td><td>0</td><td>0</td><td>0</td><td>14</td><td>8.9502</td><td>18</td><td>20</td><td>1</td><td>⋯</td><td>0</td><td>256</td><td>4096</td><td>65536</td><td>1048576</td><td>16777216</td><td>268435456</td><td>4294967296</td><td>68719476736</td><td>1.099512e+12</td></tr>\n",
       "</tbody>\n",
       "</table>\n"
      ],
      "text/latex": [
       "A tibble: 6 × 1003\n",
       "\\begin{tabular}{lllllllllllllllllllll}\n",
       " lnw\\_2016 & educ & black & hispanic & other & exp & afqt & mom\\_educ & dad\\_educ & yhea\\_100\\_1997 & ⋯ & \\_XPexp\\_23 & educ2 & educ3 & educ4 & educ5 & educ6 & educ7 & educ8 & educ9 & educ10\\\\\n",
       " <dbl> & <dbl> & <dbl> & <dbl> & <dbl> & <dbl> & <dbl> & <dbl> & <dbl> & <dbl> & ⋯ & <dbl> & <dbl> & <dbl> & <dbl> & <dbl> & <dbl> & <dbl> & <dbl> & <dbl> & <dbl>\\\\\n",
       "\\hline\n",
       "\t 4.076898 & 16 & 0 & 0 & 0 & 11 & 7.0724 & 12 & 12 & 3 & ⋯ & 0 & 256 & 4096 & 65536 & 1048576 & 16777216 & 268435456 & 4294967296 & 68719476736 & 1.099512e+12\\\\\n",
       "\t 3.294138 &  9 & 0 & 0 & 0 & 19 & 4.7481 &  9 & 10 & 2 & ⋯ & 0 &  81 &  729 &  6561 &   59049 &   531441 &   4782969 &   43046721 &   387420489 & 3.486784e+09\\\\\n",
       "\t 2.830896 &  9 & 0 & 1 & 0 & 22 & 1.1987 & 12 &  9 & 3 & ⋯ & 0 &  81 &  729 &  6561 &   59049 &   531441 &   4782969 &   43046721 &   387420489 & 3.486784e+09\\\\\n",
       "\t 4.306459 & 16 & 0 & 0 & 0 & 13 & 8.9321 & 16 & 18 & 2 & ⋯ & 0 & 256 & 4096 & 65536 & 1048576 & 16777216 & 268435456 & 4294967296 & 68719476736 & 1.099512e+12\\\\\n",
       "\t 5.991465 & 16 & 0 & 1 & 0 & 15 & 2.2618 & 16 & 16 & 1 & ⋯ & 0 & 256 & 4096 & 65536 & 1048576 & 16777216 & 268435456 & 4294967296 & 68719476736 & 1.099512e+12\\\\\n",
       "\t 4.711924 & 16 & 0 & 0 & 0 & 14 & 8.9502 & 18 & 20 & 1 & ⋯ & 0 & 256 & 4096 & 65536 & 1048576 & 16777216 & 268435456 & 4294967296 & 68719476736 & 1.099512e+12\\\\\n",
       "\\end{tabular}\n"
      ],
      "text/markdown": [
       "\n",
       "A tibble: 6 × 1003\n",
       "\n",
       "| lnw_2016 &lt;dbl&gt; | educ &lt;dbl&gt; | black &lt;dbl&gt; | hispanic &lt;dbl&gt; | other &lt;dbl&gt; | exp &lt;dbl&gt; | afqt &lt;dbl&gt; | mom_educ &lt;dbl&gt; | dad_educ &lt;dbl&gt; | yhea_100_1997 &lt;dbl&gt; | ⋯ ⋯ | _XPexp_23 &lt;dbl&gt; | educ2 &lt;dbl&gt; | educ3 &lt;dbl&gt; | educ4 &lt;dbl&gt; | educ5 &lt;dbl&gt; | educ6 &lt;dbl&gt; | educ7 &lt;dbl&gt; | educ8 &lt;dbl&gt; | educ9 &lt;dbl&gt; | educ10 &lt;dbl&gt; |\n",
       "|---|---|---|---|---|---|---|---|---|---|---|---|---|---|---|---|---|---|---|---|---|\n",
       "| 4.076898 | 16 | 0 | 0 | 0 | 11 | 7.0724 | 12 | 12 | 3 | ⋯ | 0 | 256 | 4096 | 65536 | 1048576 | 16777216 | 268435456 | 4294967296 | 68719476736 | 1.099512e+12 |\n",
       "| 3.294138 |  9 | 0 | 0 | 0 | 19 | 4.7481 |  9 | 10 | 2 | ⋯ | 0 |  81 |  729 |  6561 |   59049 |   531441 |   4782969 |   43046721 |   387420489 | 3.486784e+09 |\n",
       "| 2.830896 |  9 | 0 | 1 | 0 | 22 | 1.1987 | 12 |  9 | 3 | ⋯ | 0 |  81 |  729 |  6561 |   59049 |   531441 |   4782969 |   43046721 |   387420489 | 3.486784e+09 |\n",
       "| 4.306459 | 16 | 0 | 0 | 0 | 13 | 8.9321 | 16 | 18 | 2 | ⋯ | 0 | 256 | 4096 | 65536 | 1048576 | 16777216 | 268435456 | 4294967296 | 68719476736 | 1.099512e+12 |\n",
       "| 5.991465 | 16 | 0 | 1 | 0 | 15 | 2.2618 | 16 | 16 | 1 | ⋯ | 0 | 256 | 4096 | 65536 | 1048576 | 16777216 | 268435456 | 4294967296 | 68719476736 | 1.099512e+12 |\n",
       "| 4.711924 | 16 | 0 | 0 | 0 | 14 | 8.9502 | 18 | 20 | 1 | ⋯ | 0 | 256 | 4096 | 65536 | 1048576 | 16777216 | 268435456 | 4294967296 | 68719476736 | 1.099512e+12 |\n",
       "\n"
      ],
      "text/plain": [
       "  lnw_2016 educ black hispanic other exp afqt   mom_educ dad_educ yhea_100_1997\n",
       "1 4.076898 16   0     0        0     11  7.0724 12       12       3            \n",
       "2 3.294138  9   0     0        0     19  4.7481  9       10       2            \n",
       "3 2.830896  9   0     1        0     22  1.1987 12        9       3            \n",
       "4 4.306459 16   0     0        0     13  8.9321 16       18       2            \n",
       "5 5.991465 16   0     1        0     15  2.2618 16       16       1            \n",
       "6 4.711924 16   0     0        0     14  8.9502 18       20       1            \n",
       "  ⋯ _XPexp_23 educ2 educ3 educ4 educ5   educ6    educ7     educ8     \n",
       "1 ⋯ 0         256   4096  65536 1048576 16777216 268435456 4294967296\n",
       "2 ⋯ 0          81    729   6561   59049   531441   4782969   43046721\n",
       "3 ⋯ 0          81    729   6561   59049   531441   4782969   43046721\n",
       "4 ⋯ 0         256   4096  65536 1048576 16777216 268435456 4294967296\n",
       "5 ⋯ 0         256   4096  65536 1048576 16777216 268435456 4294967296\n",
       "6 ⋯ 0         256   4096  65536 1048576 16777216 268435456 4294967296\n",
       "  educ9       educ10      \n",
       "1 68719476736 1.099512e+12\n",
       "2   387420489 3.486784e+09\n",
       "3   387420489 3.486784e+09\n",
       "4 68719476736 1.099512e+12\n",
       "5 68719476736 1.099512e+12\n",
       "6 68719476736 1.099512e+12"
      ]
     },
     "metadata": {},
     "output_type": "display_data"
    }
   ],
   "source": [
    "head(nlsy)"
   ]
  },
  {
   "cell_type": "markdown",
   "id": "9e866852",
   "metadata": {},
   "source": [
    "### Corremos la regresión"
   ]
  },
  {
   "cell_type": "code",
   "execution_count": 9,
   "id": "c209a0c9",
   "metadata": {
    "vscode": {
     "languageId": "r"
    }
   },
   "outputs": [],
   "source": [
    "reg<- lm(lnw_2016~educ,  data = nlsy)\n"
   ]
  },
  {
   "cell_type": "code",
   "execution_count": 10,
   "id": "50ca8d07",
   "metadata": {
    "vscode": {
     "languageId": "r"
    }
   },
   "outputs": [
    {
     "name": "stdout",
     "output_type": "stream",
     "text": [
      "\n",
      "===============================================\n",
      "                        Dependent variable:    \n",
      "                    ---------------------------\n",
      "                             lnw_2016          \n",
      "-----------------------------------------------\n",
      "educ                         0.077***          \n",
      "                              (0.008)          \n",
      "                                               \n",
      "Constant                     2.003***          \n",
      "                              (0.119)          \n",
      "                                               \n",
      "-----------------------------------------------\n",
      "Observations                   1,266           \n",
      "R2                             0.067           \n",
      "Adjusted R2                    0.066           \n",
      "Residual Std. Error      0.840 (df = 1264)     \n",
      "F Statistic          90.128*** (df = 1; 1264)  \n",
      "===============================================\n",
      "Note:               *p<0.1; **p<0.05; ***p<0.01\n"
     ]
    }
   ],
   "source": [
    "stargazer(reg,type=\"text\") #Similar en stata: outreg2 "
   ]
  },
  {
   "cell_type": "markdown",
   "id": "54409613",
   "metadata": {},
   "source": [
    "## Habilidad\n",
    "\n",
    "El AFQT (Armed Forces Qualification Test) es una puntuación derivada de cuatro de las nueve subpruebas del ASVAB (Armed Services Vocational Aptitude Battery). Estas subpruebas son:\n",
    "\n",
    "   - Arithmetic Reasoning (AR): Evalúa la capacidad para resolver problemas matemáticos básicos.\n",
    "   - Word Knowledge (WK): Mide la capacidad para entender el significado de las palabras a través de sinónimos.\n",
    "   - Paragraph Comprehension (PC): Evalúa la capacidad para obtener información de un texto escrito.\n",
    "   - Mathematics Knowledge (MK): Mide el conocimiento de conceptos matemáticos y aplicaciones.\n",
    "   \n",
    "Muchos argumentan que el AFQT es comparable a otras pruebas populares de cociente intelectual (CI) en el hecho de que evalúa el nivel básico de inteligencia de un individuo.\n",
    "\n",
    "Otros dicen que mo es una medida de inteligencia general, sino más bien una evaluación de habilidades y conocimientos en áreas específicas que son consideradas esenciales para el entrenamiento y desempeño en el servicio militar.\n",
    "\n",
    "La puntuación del AFQT se calcula combinando las puntuaciones de las subpruebas mencionadas y luego se convierte en un percentil que varía de 0 a 10. Esta puntuación indica cómo se compara un individuo con una muestra representativa de la población de 18 a 23 años en términos de habilidades y conocimientos evaluados por el ASVAB.\n",
    "\n",
    "Por ejemplo, una puntuación del AFQT en el percentil .60 significa que el individuo obtuvo una puntuación igual o superior al 60% de la población de referencia.\n"
   ]
  },
  {
   "cell_type": "code",
   "execution_count": 11,
   "id": "d6e497f5",
   "metadata": {},
   "outputs": [],
   "source": [
    "reg2 <- lm(lnw_2016~educ + afqt,  data = nlsy)"
   ]
  },
  {
   "cell_type": "code",
   "execution_count": 12,
   "id": "60f137cb",
   "metadata": {},
   "outputs": [
    {
     "name": "stdout",
     "output_type": "stream",
     "text": [
      "\n",
      "=====================================================================\n",
      "                                   Dependent variable:               \n",
      "                    -------------------------------------------------\n",
      "                                        lnw_2016                     \n",
      "                              (1)                      (2)           \n",
      "---------------------------------------------------------------------\n",
      "educ                        0.077***                 0.048***        \n",
      "                            (0.008)                  (0.010)         \n",
      "                                                                     \n",
      "afqt                                                 0.050***        \n",
      "                                                     (0.010)         \n",
      "                                                                     \n",
      "Constant                    2.003***                 2.148***        \n",
      "                            (0.119)                  (0.121)         \n",
      "                                                                     \n",
      "---------------------------------------------------------------------\n",
      "Observations                 1,266                    1,266          \n",
      "R2                           0.067                    0.086          \n",
      "Adjusted R2                  0.066                    0.084          \n",
      "Residual Std. Error    0.840 (df = 1264)        0.832 (df = 1263)    \n",
      "F Statistic         90.128*** (df = 1; 1264) 59.291*** (df = 2; 1263)\n",
      "=====================================================================\n",
      "Note:                                     *p<0.1; **p<0.05; ***p<0.01\n"
     ]
    }
   ],
   "source": [
    "stargazer(reg,reg2,type=\"text\") #Similar en stata: outreg2 "
   ]
  }
 ],
 "metadata": {
  "kernelspec": {
   "display_name": "R",
   "language": "R",
   "name": "ir"
  },
  "language_info": {
   "codemirror_mode": "r",
   "file_extension": ".r",
   "mimetype": "text/x-r-source",
   "name": "R",
   "pygments_lexer": "r",
   "version": "4.3.0"
  },
  "toc": {
   "base_numbering": 1,
   "nav_menu": {},
   "number_sections": true,
   "sideBar": true,
   "skip_h1_title": false,
   "title_cell": "Table of Contents",
   "title_sidebar": "Contents",
   "toc_cell": false,
   "toc_position": {},
   "toc_section_display": true,
   "toc_window_display": false
  }
 },
 "nbformat": 4,
 "nbformat_minor": 5
}
