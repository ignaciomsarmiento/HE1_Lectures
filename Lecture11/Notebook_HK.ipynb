{
 "cells": [
  {
   "cell_type": "markdown",
   "id": "e53dc4f6",
   "metadata": {},
   "source": [
    "# Haciendo Economía: Retornos a la educación"
   ]
  },
  {
   "cell_type": "markdown",
   "id": "1c48f00c",
   "metadata": {},
   "source": [
    "<a target=\"_blank\" href=\"https://colab.research.google.com/github/ignaciomsarmiento/HE1_Lectures/blob/main/Lecture11/Notebook_HK.ipynb\">\n",
    "  <img src=\"https://colab.research.google.com/assets/colab-badge.svg\" alt=\"Open In Colab\"/>\n",
    "</a>\n"
   ]
  },
  {
   "cell_type": "markdown",
   "id": "32d87f3f",
   "metadata": {},
   "source": [
    "## Modelo \n",
    "\n",
    "$$\n",
    "y= f(X) + u\n",
    "$$\n",
    "\n",
    "$$\n",
    "log(w)= \\beta_0 + \\beta_1 \\times  Educ + u\n",
    "$$\n"
   ]
  },
  {
   "cell_type": "markdown",
   "id": "dcc5134c",
   "metadata": {},
   "source": [
    "## Datos\n",
    "\n",
    "La NLSY97 (National Longitudinal Survey of Youth, 1997) es un proyecto longitudinal que sigue las vidas de una muestra de jóvenes estadounidenses nacidos entre 1980 y 1984. Se entrevistó por primera vez a 8,984 encuestados cuando tenían entre 12 y 17 años en 1997. Esta cohorte en curso ha sido encuestada 19 veces hasta la fecha y ahora se entrevista bienalmente. Los datos están disponibles desde la Ronda 1 (1997-98) hasta la Ronda 19 (2019-2020), junto con un suplemento COVID-19 realizado en 2021.\n",
    "La sección de \"Educación, Capacitación y Puntajes de Logro\" del NLSY97 proporciona información sobre las actividades educativas, actitudes y estado educativo de los encuestados. A continuación, te proporciono un resumen de las áreas relevantes que podrían contener información sobre las variables que mencionaste:\n",
    "\n",
    "   \n",
    "Entre otras cosas Se recopilan datos sobre las actividades, actitudes y estado educativo de los encuestados del NLSY97 a través de preguntas sobre escolaridad. Estas preguntas se adaptan al nivel de grado del encuestado y abordan experiencias educativas antes de la secundaria, en la secundaria y en la universidad.\n",
    "       \n",
    "En la primera ronda, la mayoría de los encuestados del NLSY97 participaron en la administración de una prueba nacional, la versión informatizada del Armed Services Vocational Aptitude Battery (ASVAB).\n",
    "\n",
    "\n",
    "Además, algunos encuestados del NLSY97 realizaron el Peabody Individual Achievement Test (PIAT) Math Assessment como parte de la entrevista. También se recopiló información sobre otros tests estandarizados (como ACT y SAT) que los encuestados podrían haber tomado en la secundaria."
   ]
  },
  {
   "cell_type": "code",
   "execution_count": null,
   "id": "a4b00b42",
   "metadata": {
    "vscode": {
     "languageId": "r"
    }
   },
   "outputs": [],
   "source": [
    "# install.packages(\"pacman\") #Correr esta linea en Google Colab"
   ]
  },
  {
   "cell_type": "code",
   "execution_count": null,
   "id": "d86d5977",
   "metadata": {
    "vscode": {
     "languageId": "r"
    }
   },
   "outputs": [],
   "source": [
    "# Cargamos los paquetes\n",
    "\n",
    "require(\"pacman\")\n",
    "\n",
    "p_load(\"tidyverse\",\"stargazer\")\n"
   ]
  },
  {
   "cell_type": "code",
   "execution_count": null,
   "id": "0f4546c8",
   "metadata": {
    "vscode": {
     "languageId": "r"
    }
   },
   "outputs": [],
   "source": [
    "nlsy = read_csv('https://raw.githubusercontent.com/ignaciomsarmiento/datasets/main/nlsy97.csv')\n"
   ]
  },
  {
   "cell_type": "code",
   "execution_count": null,
   "id": "676de3bf",
   "metadata": {
    "vscode": {
     "languageId": "r"
    }
   },
   "outputs": [],
   "source": [
    "head(nlsy)"
   ]
  },
  {
   "cell_type": "markdown",
   "id": "dd600892",
   "metadata": {},
   "source": [
    "### Estadísticas descriptivas y limpieza de datos"
   ]
  },
  {
   "cell_type": "code",
   "execution_count": null,
   "id": "6f68e7bc",
   "metadata": {},
   "outputs": [],
   "source": [
    "summary(nlsy  %>% select(lnw_2016, educ))"
   ]
  },
  {
   "cell_type": "code",
   "execution_count": null,
   "id": "87a89c50",
   "metadata": {},
   "outputs": [],
   "source": [
    "#Housekeeping\n",
    "nlsy = nlsy  %>%   drop_na(educ) #dropea los valores faltantes (NA)"
   ]
  },
  {
   "cell_type": "code",
   "execution_count": null,
   "id": "1c589b4f",
   "metadata": {
    "vscode": {
     "languageId": "r"
    }
   },
   "outputs": [],
   "source": [
    "#Polinomios de educación\n",
    "\n",
    "nlsy <- nlsy  %>% mutate(educ2=educ^2)"
   ]
  },
  {
   "cell_type": "markdown",
   "id": "c0f44a67",
   "metadata": {},
   "source": [
    "## Regresión Lineal: log(salario) en polinomios de educación"
   ]
  },
  {
   "cell_type": "code",
   "execution_count": null,
   "id": "ff9a7d77",
   "metadata": {
    "vscode": {
     "languageId": "r"
    }
   },
   "outputs": [],
   "source": [
    "head(nlsy)"
   ]
  },
  {
   "cell_type": "markdown",
   "id": "9e866852",
   "metadata": {},
   "source": [
    "### Corremos la regresión"
   ]
  },
  {
   "cell_type": "code",
   "execution_count": null,
   "id": "c209a0c9",
   "metadata": {
    "vscode": {
     "languageId": "r"
    }
   },
   "outputs": [],
   "source": [
    "reg<- lm(lnw_2016~educ,  data = nlsy)\n"
   ]
  },
  {
   "cell_type": "code",
   "execution_count": null,
   "id": "50ca8d07",
   "metadata": {
    "vscode": {
     "languageId": "r"
    }
   },
   "outputs": [],
   "source": [
    "stargazer(reg,type=\"text\") #Similar en stata: outreg2 "
   ]
  },
  {
   "cell_type": "markdown",
   "id": "7e88068c",
   "metadata": {},
   "source": [
    "## Habilidad\n",
    "\n",
    "El AFQT (Armed Forces Qualification Test) es una puntuación derivada de cuatro de las nueve subpruebas del ASVAB (Armed Services Vocational Aptitude Battery). Estas subpruebas son:\n",
    "\n",
    "   - Arithmetic Reasoning (AR): Evalúa la capacidad para resolver problemas matemáticos básicos.\n",
    "   - Word Knowledge (WK): Mide la capacidad para entender el significado de las palabras a través de sinónimos.\n",
    "   - Paragraph Comprehension (PC): Evalúa la capacidad para obtener información de un texto escrito.\n",
    "   - Mathematics Knowledge (MK): Mide el conocimiento de conceptos matemáticos y aplicaciones.\n",
    "   \n",
    "Muchos argumentan que el AFQT es comparable a otras pruebas populares de cociente intelectual (CI) en el hecho de que evalúa el nivel básico de inteligencia de un individuo.\n",
    "\n",
    "Otros dicen que mo es una medida de inteligencia general, sino más bien una evaluación de habilidades y conocimientos en áreas específicas que son consideradas esenciales para el entrenamiento y desempeño en el servicio militar.\n",
    "\n",
    "La puntuación del AFQT se calcula combinando las puntuaciones de las subpruebas mencionadas y luego se convierte en un percentil que varía de 0 a 10. Esta puntuación indica cómo se compara un individuo con una muestra representativa de la población de 18 a 23 años en términos de habilidades y conocimientos evaluados por el ASVAB.\n",
    "\n",
    "Por ejemplo, una puntuación del AFQT en el percentil .60 significa que el individuo obtuvo una puntuación igual o superior al 60% de la población de referencia.\n"
   ]
  },
  {
   "cell_type": "code",
   "execution_count": null,
   "id": "38225b10",
   "metadata": {},
   "outputs": [],
   "source": [
    "reg2 <- lm(lnw_2016~educ + afqt,  data = nlsy)"
   ]
  },
  {
   "cell_type": "code",
   "execution_count": null,
   "id": "455a15b8",
   "metadata": {},
   "outputs": [],
   "source": [
    "stargazer(reg,reg2,type=\"text\") #Similar en stata: outreg2 "
   ]
  }
 ],
 "metadata": {
  "kernelspec": {
   "display_name": "R",
   "language": "R",
   "name": "ir"
  },
  "language_info": {
   "codemirror_mode": "r",
   "file_extension": ".r",
   "mimetype": "text/x-r-source",
   "name": "R",
   "pygments_lexer": "r",
   "version": "4.3.0"
  },
  "toc": {
   "base_numbering": 1,
   "nav_menu": {},
   "number_sections": true,
   "sideBar": true,
   "skip_h1_title": false,
   "title_cell": "Table of Contents",
   "title_sidebar": "Contents",
   "toc_cell": false,
   "toc_position": {},
   "toc_section_display": true,
   "toc_window_display": false
  }
 },
 "nbformat": 4,
 "nbformat_minor": 5
}
