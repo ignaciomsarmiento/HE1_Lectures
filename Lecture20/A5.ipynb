{
 "cells": [
  {
   "cell_type": "markdown",
   "id": "fb154d19-dafe-411b-8bfb-ca4a2b56efa7",
   "metadata": {},
   "source": [
    "<div>\n",
    "  <img src=\"conterfactuals.png\" style=\"width:900px; height:400px; object-fit:contain;\" />\n",
    "</div>\n"
   ]
  },
  {
   "cell_type": "markdown",
   "id": "600a1241",
   "metadata": {},
   "source": [
    "<a target=\"_blank\" href=\"https://colab.research.google.com/github/ignaciomsarmiento/HE1_Lectures/blob/main/Lecture20/A5.ipynb\">\n",
    "  <img src=\"https://colab.research.google.com/assets/colab-badge.svg\" alt=\"Open In Colab\"/>\n",
    "</a>"
   ]
  },
  {
   "cell_type": "markdown",
   "id": "58b22ce4-3c8b-4e79-b744-fbbadfda47a2",
   "metadata": {},
   "source": [
    "# Actividad 5: Resultados Potenciales"
   ]
  },
  {
   "cell_type": "code",
   "execution_count": 1,
   "id": "03589f47-949a-48d3-9092-2cbcda232d02",
   "metadata": {
    "vscode": {
     "languageId": "r"
    }
   },
   "outputs": [],
   "source": [
    "#install.packages(\"pacman\")"
   ]
  },
  {
   "cell_type": "code",
   "execution_count": null,
   "id": "5e63b8b4-9d02-478b-99e9-7f88cad53c6d",
   "metadata": {
    "vscode": {
     "languageId": "r"
    }
   },
   "outputs": [],
   "source": [
    "require(\"pacman\")\n",
    "\n",
    "p_load(\"rio\",\"stargazer\")"
   ]
  },
  {
   "cell_type": "markdown",
   "id": "c7e811fe-eb93-4dc3-8b97-0c0324765476",
   "metadata": {},
   "source": [
    "## Análisis Preliminar"
   ]
  },
  {
   "cell_type": "code",
   "execution_count": null,
   "id": "d7fcd0ad-7d32-4807-b065-88ed195c9417",
   "metadata": {
    "vscode": {
     "languageId": "r"
    }
   },
   "outputs": [],
   "source": [
    "dta1<-import(\"he1-taller-datos/he1-taller-datos-apreliminar.dta\")\n",
    "head(dta1)"
   ]
  },
  {
   "cell_type": "code",
   "execution_count": null,
   "id": "0d2e97bb-16a4-4fe6-aebd-8899f0cdc3e2",
   "metadata": {
    "vscode": {
     "languageId": "r"
    }
   },
   "outputs": [],
   "source": [
    "reg1 <- lm(falto~uso,dta1)\n",
    "\n",
    "stargazer(reg1,type=\"text\")"
   ]
  },
  {
   "cell_type": "code",
   "execution_count": null,
   "id": "832c5f7c-1c5b-43b7-8563-8359076cb4da",
   "metadata": {
    "vscode": {
     "languageId": "r"
    }
   },
   "outputs": [],
   "source": [
    "reg2 <- lm(falto~uso+edad,dta1)\n",
    "\n",
    "stargazer(reg1,reg2,type=\"text\")"
   ]
  }
 ],
 "metadata": {
  "kernelspec": {
   "display_name": "R",
   "language": "R",
   "name": "ir"
  },
  "language_info": {
   "codemirror_mode": "r",
   "file_extension": ".r",
   "mimetype": "text/x-r-source",
   "name": "R",
   "pygments_lexer": "r",
   "version": "4.4.1"
  }
 },
 "nbformat": 4,
 "nbformat_minor": 5
}
