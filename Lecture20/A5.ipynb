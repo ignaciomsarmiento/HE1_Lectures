{
 "cells": [
  {
   "cell_type": "markdown",
   "id": "fb154d19-dafe-411b-8bfb-ca4a2b56efa7",
   "metadata": {},
   "source": [
    "<div>\n",
    "  <img src=\"conterfactuals.png\" style=\"width:900px; height:400px; object-fit:contain;\" />\n",
    "</div>\n"
   ]
  },
  {
   "cell_type": "markdown",
   "id": "58b22ce4-3c8b-4e79-b744-fbbadfda47a2",
   "metadata": {},
   "source": [
    "# Actividad 5: Resultados Potenciales"
   ]
  },
  {
   "cell_type": "code",
   "execution_count": 1,
   "id": "03589f47-949a-48d3-9092-2cbcda232d02",
   "metadata": {},
   "outputs": [],
   "source": [
    "#install.packages(\"pacman\")"
   ]
  },
  {
   "cell_type": "code",
   "execution_count": 2,
   "id": "5e63b8b4-9d02-478b-99e9-7f88cad53c6d",
   "metadata": {},
   "outputs": [
    {
     "name": "stderr",
     "output_type": "stream",
     "text": [
      "Loading required package: pacman\n",
      "\n"
     ]
    }
   ],
   "source": [
    "require(\"pacman\")\n",
    "\n",
    "p_load(\"rio\",\"stargazer\")"
   ]
  },
  {
   "cell_type": "markdown",
   "id": "c7e811fe-eb93-4dc3-8b97-0c0324765476",
   "metadata": {},
   "source": [
    "## Análisis Preliminar"
   ]
  },
  {
   "cell_type": "code",
   "execution_count": 3,
   "id": "d7fcd0ad-7d32-4807-b065-88ed195c9417",
   "metadata": {},
   "outputs": [
    {
     "data": {
      "text/html": [
       "<table class=\"dataframe\">\n",
       "<caption>A data.frame: 6 × 4</caption>\n",
       "<thead>\n",
       "\t<tr><th></th><th scope=col>ingreso</th><th scope=col>edad</th><th scope=col>uso</th><th scope=col>falto</th></tr>\n",
       "\t<tr><th></th><th scope=col>&lt;dbl&gt;</th><th scope=col>&lt;dbl&gt;</th><th scope=col>&lt;dbl&gt;</th><th scope=col>&lt;dbl&gt;</th></tr>\n",
       "</thead>\n",
       "<tbody>\n",
       "\t<tr><th scope=row>1</th><td>3</td><td>14</td><td>1</td><td>1</td></tr>\n",
       "\t<tr><th scope=row>2</th><td>3</td><td>14</td><td>0</td><td>0</td></tr>\n",
       "\t<tr><th scope=row>3</th><td>2</td><td>13</td><td>0</td><td>0</td></tr>\n",
       "\t<tr><th scope=row>4</th><td>5</td><td>13</td><td>0</td><td>1</td></tr>\n",
       "\t<tr><th scope=row>5</th><td>6</td><td>15</td><td>0</td><td>0</td></tr>\n",
       "\t<tr><th scope=row>6</th><td>2</td><td>NA</td><td>0</td><td>0</td></tr>\n",
       "</tbody>\n",
       "</table>\n"
      ],
      "text/latex": [
       "A data.frame: 6 × 4\n",
       "\\begin{tabular}{r|llll}\n",
       "  & ingreso & edad & uso & falto\\\\\n",
       "  & <dbl> & <dbl> & <dbl> & <dbl>\\\\\n",
       "\\hline\n",
       "\t1 & 3 & 14 & 1 & 1\\\\\n",
       "\t2 & 3 & 14 & 0 & 0\\\\\n",
       "\t3 & 2 & 13 & 0 & 0\\\\\n",
       "\t4 & 5 & 13 & 0 & 1\\\\\n",
       "\t5 & 6 & 15 & 0 & 0\\\\\n",
       "\t6 & 2 & NA & 0 & 0\\\\\n",
       "\\end{tabular}\n"
      ],
      "text/markdown": [
       "\n",
       "A data.frame: 6 × 4\n",
       "\n",
       "| <!--/--> | ingreso &lt;dbl&gt; | edad &lt;dbl&gt; | uso &lt;dbl&gt; | falto &lt;dbl&gt; |\n",
       "|---|---|---|---|---|\n",
       "| 1 | 3 | 14 | 1 | 1 |\n",
       "| 2 | 3 | 14 | 0 | 0 |\n",
       "| 3 | 2 | 13 | 0 | 0 |\n",
       "| 4 | 5 | 13 | 0 | 1 |\n",
       "| 5 | 6 | 15 | 0 | 0 |\n",
       "| 6 | 2 | NA | 0 | 0 |\n",
       "\n"
      ],
      "text/plain": [
       "  ingreso edad uso falto\n",
       "1 3       14   1   1    \n",
       "2 3       14   0   0    \n",
       "3 2       13   0   0    \n",
       "4 5       13   0   1    \n",
       "5 6       15   0   0    \n",
       "6 2       NA   0   0    "
      ]
     },
     "metadata": {},
     "output_type": "display_data"
    }
   ],
   "source": [
    "dta1<-import(\"he1-taller-datos/he1-taller-datos-apreliminar.dta\")\n",
    "head(dta1)"
   ]
  },
  {
   "cell_type": "code",
   "execution_count": 4,
   "id": "0d2e97bb-16a4-4fe6-aebd-8899f0cdc3e2",
   "metadata": {},
   "outputs": [
    {
     "name": "stdout",
     "output_type": "stream",
     "text": [
      "\n",
      "===============================================\n",
      "                        Dependent variable:    \n",
      "                    ---------------------------\n",
      "                               falto           \n",
      "-----------------------------------------------\n",
      "uso                          0.212***          \n",
      "                              (0.059)          \n",
      "                                               \n",
      "Constant                     0.466***          \n",
      "                              (0.028)          \n",
      "                                               \n",
      "-----------------------------------------------\n",
      "Observations                    395            \n",
      "R2                             0.032           \n",
      "Adjusted R2                    0.029           \n",
      "Residual Std. Error      0.493 (df = 393)      \n",
      "F Statistic           12.872*** (df = 1; 393)  \n",
      "===============================================\n",
      "Note:               *p<0.1; **p<0.05; ***p<0.01\n"
     ]
    }
   ],
   "source": [
    "reg1 <- lm(falto~uso,dta1)\n",
    "\n",
    "stargazer(reg1,type=\"text\")"
   ]
  },
  {
   "cell_type": "code",
   "execution_count": 5,
   "id": "832c5f7c-1c5b-43b7-8563-8359076cb4da",
   "metadata": {},
   "outputs": [
    {
     "name": "stdout",
     "output_type": "stream",
     "text": [
      "\n",
      "==================================================================\n",
      "                                 Dependent variable:              \n",
      "                    ----------------------------------------------\n",
      "                                        falto                     \n",
      "                              (1)                    (2)          \n",
      "------------------------------------------------------------------\n",
      "uso                        0.212***                 0.093         \n",
      "                            (0.059)                (0.094)        \n",
      "                                                                  \n",
      "edad                                               0.114***       \n",
      "                                                   (0.028)        \n",
      "                                                                  \n",
      "Constant                   0.466***               -1.162***       \n",
      "                            (0.028)                (0.398)        \n",
      "                                                                  \n",
      "------------------------------------------------------------------\n",
      "Observations                  395                    198          \n",
      "R2                           0.032                  0.089         \n",
      "Adjusted R2                  0.029                  0.080         \n",
      "Residual Std. Error    0.493 (df = 393)        0.480 (df = 195)   \n",
      "F Statistic         12.872*** (df = 1; 393) 9.521*** (df = 2; 195)\n",
      "==================================================================\n",
      "Note:                                  *p<0.1; **p<0.05; ***p<0.01\n"
     ]
    }
   ],
   "source": [
    "reg2 <- lm(falto~uso+edad,dta1)\n",
    "\n",
    "stargazer(reg1,reg2,type=\"text\")"
   ]
  }
 ],
 "metadata": {
  "kernelspec": {
   "display_name": "R",
   "language": "R",
   "name": "ir"
  },
  "language_info": {
   "codemirror_mode": "r",
   "file_extension": ".r",
   "mimetype": "text/x-r-source",
   "name": "R",
   "pygments_lexer": "r",
   "version": "4.4.1"
  }
 },
 "nbformat": 4,
 "nbformat_minor": 5
}
